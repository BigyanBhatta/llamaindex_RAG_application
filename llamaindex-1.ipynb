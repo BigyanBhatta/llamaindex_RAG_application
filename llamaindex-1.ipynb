{
 "cells": [
  {
   "cell_type": "code",
   "execution_count": 6,
   "metadata": {},
   "outputs": [
    {
     "data": {
      "text/plain": [
       "True"
      ]
     },
     "execution_count": 6,
     "metadata": {},
     "output_type": "execute_result"
    }
   ],
   "source": [
    "import os\n",
    "import llama_index\n",
    "\n",
    "from dotenv import load_dotenv\n",
    "load_dotenv()"
   ]
  },
  {
   "cell_type": "code",
   "execution_count": 7,
   "metadata": {},
   "outputs": [],
   "source": [
    "os.environ['OPENAI_API_KEY'] = os.getenv('OPENAI_API_KEY')"
   ]
  },
  {
   "cell_type": "code",
   "execution_count": 8,
   "metadata": {},
   "outputs": [],
   "source": [
    "from llama_index.core import SimpleDirectoryReader, VectorStoreIndex\n",
    "document = SimpleDirectoryReader('file').load_data()"
   ]
  },
  {
   "cell_type": "code",
   "execution_count": 9,
   "metadata": {},
   "outputs": [
    {
     "name": "stderr",
     "output_type": "stream",
     "text": [
      "Generating embeddings: 100%|██████████| 1/1 [00:00<00:00,  2.15it/s]\n"
     ]
    }
   ],
   "source": [
    "index = VectorStoreIndex(document, show_progress= True)"
   ]
  },
  {
   "cell_type": "code",
   "execution_count": 10,
   "metadata": {},
   "outputs": [],
   "source": [
    "query_engine = index.as_query_engine()\n",
    "response = query_engine.query('list out the name of books')"
   ]
  },
  {
   "cell_type": "code",
   "execution_count": 11,
   "metadata": {},
   "outputs": [
    {
     "data": {
      "text/plain": [
       "'Introduction to Artificial Intelligence, The Great Gatsby, The History of the World'"
      ]
     },
     "execution_count": 11,
     "metadata": {},
     "output_type": "execute_result"
    }
   ],
   "source": [
    "response.response"
   ]
  },
  {
   "cell_type": "code",
   "execution_count": 12,
   "metadata": {},
   "outputs": [],
   "source": [
    "from llama_index.core import SimpleDirectoryReader, VectorStoreIndex, StorageContext, load_index_from_storage"
   ]
  },
  {
   "cell_type": "code",
   "execution_count": 13,
   "metadata": {},
   "outputs": [
    {
     "name": "stderr",
     "output_type": "stream",
     "text": [
      "<>:1: SyntaxWarning: invalid escape sequence '\\s'\n",
      "<>:1: SyntaxWarning: invalid escape sequence '\\s'\n",
      "C:\\Users\\bigya\\AppData\\Local\\Temp\\ipykernel_25800\\4181098289.py:1: SyntaxWarning: invalid escape sequence '\\s'\n",
      "  persist_dir = '.\\storage'\n"
     ]
    }
   ],
   "source": [
    "persist_dir = '.\\storage'\n",
    "if not os.path.exists(persist_dir):\n",
    "    document = SimpleDirectoryReader('file').load_data()\n",
    "    index = VectorStoreIndex.from_documents(document, show_progress= True)\n",
    "    index.storage_context.persist(persist_dir= persist_dir)\n",
    "\n",
    "else:\n",
    "    storage_context = StorageContext.from_defaults(persist_dir= persist_dir)\n",
    "    index = load_index_from_storage(storage_context=storage_context)\n",
    "    \n"
   ]
  },
  {
   "cell_type": "markdown",
   "metadata": {},
   "source": [
    "## pprint response\n"
   ]
  },
  {
   "cell_type": "code",
   "execution_count": 14,
   "metadata": {},
   "outputs": [
    {
     "name": "stdout",
     "output_type": "stream",
     "text": [
      "Final Response: Introduction to Artificial Intelligence, The Great\n",
      "Gatsby, The History of the World\n",
      "______________________________________________________________________\n",
      "Source Node 1/1\n",
      "Node ID: 448a51a4-1b28-473b-8c04-ccd3e6211df4\n",
      "Similarity: 0.7726661980647653\n",
      "Text: <?xml version=\"1.0\" encoding=\"UTF-8\"?>  <bookstore>      <book\n",
      "category=\"Science\">          <title>Introduction to Artificial\n",
      "Intelligence</title>          <author>John Doe</author>\n",
      "<price>29.99</price>      </book>      <book category=\"Fiction\">\n",
      "<title>The Great Gatsby</title>          <author>F. Scott\n",
      "Fitzgerald</author>     ...\n"
     ]
    }
   ],
   "source": [
    "from llama_index.core.response.pprint_utils import pprint_response\n",
    "pprint_response(response, show_source= True)"
   ]
  },
  {
   "cell_type": "code",
   "execution_count": 15,
   "metadata": {},
   "outputs": [],
   "source": [
    "response2 = query_engine.query('How many no. of books are there')"
   ]
  },
  {
   "cell_type": "code",
   "execution_count": 17,
   "metadata": {},
   "outputs": [
    {
     "data": {
      "text/plain": [
       "'There are a total of 24 books in the provided context.'"
      ]
     },
     "execution_count": 17,
     "metadata": {},
     "output_type": "execute_result"
    }
   ],
   "source": [
    "response2.response"
   ]
  },
  {
   "cell_type": "markdown",
   "metadata": {},
   "source": [
    "## Retrievers\n"
   ]
  },
  {
   "cell_type": "code",
   "execution_count": 18,
   "metadata": {},
   "outputs": [],
   "source": [
    "from llama_index.core.retrievers import VectorIndexRetriever\n",
    "from llama_index.core.query_engine import RetrieverQueryEngine"
   ]
  },
  {
   "cell_type": "code",
   "execution_count": 19,
   "metadata": {},
   "outputs": [],
   "source": [
    "retriever = VectorIndexRetriever(\n",
    "    index= index,\n",
    "    similarity_top_k= 5 # extract top 5 relevant content\n",
    ")"
   ]
  },
  {
   "cell_type": "code",
   "execution_count": 20,
   "metadata": {},
   "outputs": [],
   "source": [
    "query_engine = RetrieverQueryEngine(retriever= retriever)"
   ]
  },
  {
   "cell_type": "code",
   "execution_count": 30,
   "metadata": {},
   "outputs": [],
   "source": [
    "response = query_engine.query('How many categories of book are suitable for teenagers from the list and what are they?')"
   ]
  },
  {
   "cell_type": "code",
   "execution_count": 31,
   "metadata": {},
   "outputs": [
    {
     "name": "stdout",
     "output_type": "stream",
     "text": [
      "There are three categories of books suitable for teenagers from the list: Science, Fiction, and History.\n"
     ]
    }
   ],
   "source": [
    "print(response)"
   ]
  },
  {
   "cell_type": "code",
   "execution_count": 33,
   "metadata": {},
   "outputs": [
    {
     "name": "stdout",
     "output_type": "stream",
     "text": [
      "Final Response: There are three categories of books suitable for\n",
      "teenagers from the list: Science, Fiction, and History.\n",
      "______________________________________________________________________\n",
      "Source Node 1/3\n",
      "Node ID: 4ff4c848-3286-4791-8457-21189c833031\n",
      "Similarity: 0.756173401146463\n",
      "Text: Scott Fitzgerald</author>          <price>12.99</price>\n",
      "</book>      <book category=\"History\">          <title>The History of\n",
      "the World</title>          <author>Jane Smith</author>\n",
      "<price>22.50</price>      </book>  <book category=\"Science\">\n",
      "<title>Introduction to Artificial Intelligence</title>\n",
      "<author>John Doe</...\n",
      "______________________________________________________________________\n",
      "Source Node 2/3\n",
      "Node ID: eda03ba0-9e6b-421c-9f2d-bdbe558e80c2\n",
      "Similarity: 0.7527841039007628\n",
      "Text: Scott Fitzgerald</author>          <price>12.99</price>\n",
      "</book>      <book category=\"History\">          <title>The History of\n",
      "the World</title>          <author>Jane Smith</author>\n",
      "<price>22.50</price>      </book>  <book category=\"Science\">\n",
      "<title>Introduction to Artificial Intelligence</title>\n",
      "<author>John Doe</...\n",
      "______________________________________________________________________\n",
      "Source Node 3/3\n",
      "Node ID: be5db21e-8121-4d55-a19f-76dcb31eb550\n",
      "Similarity: 0.742478536721408\n",
      "Text: <?xml version=\"1.0\" encoding=\"UTF-8\"?>  <bookstore>      <book\n",
      "category=\"Science\">          <title>Introduction to Artificial\n",
      "Intelligence</title>          <author>John Doe</author>\n",
      "<price>29.99</price>      </book>      <book category=\"Fiction\">\n",
      "<title>The Great Gatsby</title>          <author>F. Scott\n",
      "Fitzgerald</author>     ...\n"
     ]
    }
   ],
   "source": [
    "pprint_response(response, show_source= True)"
   ]
  },
  {
   "cell_type": "code",
   "execution_count": 34,
   "metadata": {},
   "outputs": [],
   "source": [
    "# how can we set the threshold value for the similarity ?"
   ]
  },
  {
   "cell_type": "markdown",
   "metadata": {},
   "source": [
    "## Similarity Postprocessor"
   ]
  },
  {
   "cell_type": "code",
   "execution_count": 36,
   "metadata": {},
   "outputs": [],
   "source": [
    "from llama_index.core.postprocessor import SimilarityPostprocessor\n",
    "processor = SimilarityPostprocessor(similarity_cutoff= 0.75)"
   ]
  },
  {
   "cell_type": "code",
   "execution_count": 39,
   "metadata": {},
   "outputs": [],
   "source": [
    "retriever = VectorIndexRetriever(\n",
    "    index= index,\n",
    "    similarity_top_k= 5 # extract top 5 relevant content\n",
    ")\n",
    "query_engine = RetrieverQueryEngine(retriever= retriever, node_postprocessors= [processor])"
   ]
  },
  {
   "cell_type": "code",
   "execution_count": 42,
   "metadata": {},
   "outputs": [],
   "source": [
    "response3 = query_engine.query('How many categories of book are suitable for teenagers from the list and what are they?')"
   ]
  },
  {
   "cell_type": "code",
   "execution_count": 43,
   "metadata": {},
   "outputs": [
    {
     "name": "stdout",
     "output_type": "stream",
     "text": [
      "There are three categories of books suitable for teenagers from the list: Fiction, History, and Science.\n"
     ]
    }
   ],
   "source": [
    "print(response3)"
   ]
  },
  {
   "cell_type": "code",
   "execution_count": 44,
   "metadata": {},
   "outputs": [
    {
     "name": "stdout",
     "output_type": "stream",
     "text": [
      "Final Response: There are three categories of books suitable for\n",
      "teenagers from the list: Fiction, History, and Science.\n"
     ]
    }
   ],
   "source": [
    "pprint_response(response3)"
   ]
  },
  {
   "cell_type": "markdown",
   "metadata": {},
   "source": [
    "## How to count tokens used when creating and querying llama-index"
   ]
  },
  {
   "cell_type": "code",
   "execution_count": 46,
   "metadata": {},
   "outputs": [],
   "source": [
    "import tiktoken\n",
    "from llama_index.core import ServiceContext\n",
    "from llama_index.core.callbacks import CallbackManager, TokenCountingHandler\n"
   ]
  },
  {
   "cell_type": "code",
   "execution_count": 47,
   "metadata": {},
   "outputs": [
    {
     "name": "stderr",
     "output_type": "stream",
     "text": [
      "C:\\Users\\bigya\\AppData\\Local\\Temp\\ipykernel_25800\\1184069741.py:5: DeprecationWarning: Call to deprecated class method from_defaults. (ServiceContext is deprecated, please use `llama_index.settings.Settings` instead.) -- Deprecated since version 0.10.0.\n",
      "  service_context = ServiceContext.from_defaults(callback_manager= callback_manager)\n"
     ]
    }
   ],
   "source": [
    "token_counter = TokenCountingHandler(\n",
    "    tokenizer=tiktoken.encoding_for_model(\"gpt-3.5-turbo\").encode, verbose= True\n",
    ")\n",
    "callback_manager = CallbackManager([token_counter])\n",
    "service_context = ServiceContext.from_defaults(callback_manager= callback_manager)"
   ]
  },
  {
   "cell_type": "code",
   "execution_count": 48,
   "metadata": {},
   "outputs": [
    {
     "name": "stderr",
     "output_type": "stream",
     "text": [
      "Generating embeddings:   0%|          | 0/1 [00:00<?, ?it/s]"
     ]
    },
    {
     "name": "stdout",
     "output_type": "stream",
     "text": [
      "Embedding Token Usage: 2020\n"
     ]
    },
    {
     "name": "stderr",
     "output_type": "stream",
     "text": [
      "Generating embeddings: 100%|██████████| 1/1 [00:00<00:00,  1.31it/s]\n"
     ]
    }
   ],
   "source": [
    "index = VectorStoreIndex(document, show_progress= True, service_context= service_context)"
   ]
  },
  {
   "cell_type": "code",
   "execution_count": 51,
   "metadata": {},
   "outputs": [],
   "source": [
    "query_engine = index.as_query_engine()"
   ]
  },
  {
   "cell_type": "code",
   "execution_count": 52,
   "metadata": {},
   "outputs": [
    {
     "name": "stdout",
     "output_type": "stream",
     "text": [
      "Embedding Token Usage: 6\n"
     ]
    }
   ],
   "source": [
    "response4 = query_engine.query('what is the costliest book')"
   ]
  },
  {
   "cell_type": "code",
   "execution_count": 54,
   "metadata": {},
   "outputs": [
    {
     "name": "stdout",
     "output_type": "stream",
     "text": [
      "The costliest book is \"Introduction to Artificial Intelligence\" priced at $29.99.\n"
     ]
    }
   ],
   "source": [
    "print(response4)"
   ]
  },
  {
   "cell_type": "code",
   "execution_count": null,
   "metadata": {},
   "outputs": [],
   "source": []
  }
 ],
 "metadata": {
  "kernelspec": {
   "display_name": "Python 3",
   "language": "python",
   "name": "python3"
  },
  "language_info": {
   "codemirror_mode": {
    "name": "ipython",
    "version": 3
   },
   "file_extension": ".py",
   "mimetype": "text/x-python",
   "name": "python",
   "nbconvert_exporter": "python",
   "pygments_lexer": "ipython3",
   "version": "3.12.0"
  }
 },
 "nbformat": 4,
 "nbformat_minor": 2
}
